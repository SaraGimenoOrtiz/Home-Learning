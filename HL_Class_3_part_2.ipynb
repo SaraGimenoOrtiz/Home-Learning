{
 "cells": [
  {
   "cell_type": "code",
   "execution_count": 1,
   "metadata": {},
   "outputs": [
    {
     "name": "stdout",
     "output_type": "stream",
     "text": [
      "Requirement already satisfied: numpy in c:\\users\\sarag\\anaconda3\\lib\\site-packages (1.19.2)\n",
      "Note: you may need to restart the kernel to use updated packages.\n"
     ]
    }
   ],
   "source": [
    "pip install numpy"
   ]
  },
  {
   "cell_type": "code",
   "execution_count": 2,
   "metadata": {},
   "outputs": [],
   "source": [
    "import numpy as np"
   ]
  },
  {
   "cell_type": "code",
   "execution_count": 3,
   "metadata": {},
   "outputs": [
    {
     "name": "stdout",
     "output_type": "stream",
     "text": [
      "[1 2 3 4]\n"
     ]
    }
   ],
   "source": [
    "array=np.array([1,2,3,4])\n",
    "print(array)"
   ]
  },
  {
   "cell_type": "code",
   "execution_count": 4,
   "metadata": {},
   "outputs": [
    {
     "name": "stdout",
     "output_type": "stream",
     "text": [
      "[0 1 2 3 4 5 6 7 8]\n"
     ]
    }
   ],
   "source": [
    "task_1=np.arange(0,9,1)\n",
    "print(task_1)"
   ]
  },
  {
   "cell_type": "code",
   "execution_count": 7,
   "metadata": {},
   "outputs": [
    {
     "name": "stdout",
     "output_type": "stream",
     "text": [
      "[[ True  True  True]\n",
      " [ True  True  True]\n",
      " [ True  True  True]]\n"
     ]
    }
   ],
   "source": [
    "task_2=np.full((3,3), True, dtype=bool)\n",
    "print(task_2)"
   ]
  },
  {
   "cell_type": "code",
   "execution_count": 18,
   "metadata": {},
   "outputs": [
    {
     "name": "stdout",
     "output_type": "stream",
     "text": [
      "[1 2 3 4 5 6 7 8 9]\n",
      "[1 3 5 7 9]\n",
      "[-1  2 -1  4 -1  6 -1  8 -1]\n"
     ]
    }
   ],
   "source": [
    "task_3=np.arange(1,10,1)\n",
    "print(task_3)\n",
    "print(task_3[0:10:2])\n",
    "for i in range(0,len(task_3),2):\n",
    "    task_3[i]=-1   \n",
    "print(task_3)"
   ]
  },
  {
   "cell_type": "code",
   "execution_count": 23,
   "metadata": {},
   "outputs": [
    {
     "name": "stdout",
     "output_type": "stream",
     "text": [
      "[1 2 3 4 5 6 7 8]\n",
      "[[1 2 3 4]\n",
      " [5 6 7 8]]\n"
     ]
    }
   ],
   "source": [
    "task_5=np.array([1,2,3,4,5,6,7,8])\n",
    "print(task_5)\n",
    "new_task_5=task_5.reshape(2,4)\n",
    "print(new_task_5)"
   ]
  },
  {
   "cell_type": "code",
   "execution_count": 33,
   "metadata": {},
   "outputs": [
    {
     "name": "stdout",
     "output_type": "stream",
     "text": [
      "[[1]\n",
      " [2]\n",
      " [3]]\n",
      "[[1]\n",
      " [2]\n",
      " [3]]\n",
      "[[1]\n",
      " [2]\n",
      " [3]\n",
      " [1]\n",
      " [2]\n",
      " [3]]\n",
      "La suma de todos los valores del vector 12\n"
     ]
    }
   ],
   "source": [
    "a=np.array([[1],[2],[3]])\n",
    "b=np.array([[1],[2],[3]])\n",
    "print(a)\n",
    "print(b)\n",
    "c=np.vstack((a,b))\n",
    "print(c)\n",
    "task_6=np.sum(c)\n",
    "print(\"La suma de todos los valores del vector es\",task_6)\n"
   ]
  },
  {
   "cell_type": "code",
   "execution_count": 42,
   "metadata": {},
   "outputs": [
    {
     "name": "stdout",
     "output_type": "stream",
     "text": [
      "[1. 1. 1.]\n",
      "[2. 2. 2.] [3. 3. 3.] [1 2 3]\n",
      "[1. 1. 1. 2. 2. 2. 3. 3. 3. 1. 2. 3.]\n"
     ]
    }
   ],
   "source": [
    "array_1=np.ones(3)\n",
    "print(array_1)\n",
    "array_2=array_1*4\n",
    "array_3=array_1*3\n",
    "array_4=np.arange(1,4)\n",
    "print(array_2,array_3,array_4)\n",
    "task_7=np.concatenate((array_1,array_2,array_3,array_4),axis=0)\n",
    "print(task_7)\n"
   ]
  },
  {
   "cell_type": "code",
   "execution_count": 45,
   "metadata": {},
   "outputs": [
    {
     "name": "stdout",
     "output_type": "stream",
     "text": [
      "[1 2 3 4 5]\n",
      "[0 0 6 7 8 9]\n"
     ]
    }
   ],
   "source": [
    "a=np.array([1,2,3,4,5])\n",
    "b=np.array([4,5,6,7,8,9])\n",
    "for i in range (len(a)):\n",
    "    for j in range (len(b)):\n",
    "        if a[i]==b[j]:\n",
    "            b[j]=0\n",
    "print(a)\n",
    "print(b)"
   ]
  },
  {
   "cell_type": "code",
   "execution_count": 52,
   "metadata": {},
   "outputs": [
    {
     "name": "stdout",
     "output_type": "stream",
     "text": [
      "[0 0 3 4 5]\n",
      "[4 5 6 7 0 0]\n",
      "[0 0 3 4 5 4 5 6 7 0 0]\n",
      "34\n",
      "34\n"
     ]
    }
   ],
   "source": [
    "a=np.array([1,2,3,4,5])\n",
    "b=np.array([4,5,6,7,8,9])\n",
    "for i in range(len(a)):\n",
    "    if 3<=a[i]<=7:\n",
    "        a[i]=a[i]\n",
    "    else:\n",
    "        a[i]=0\n",
    "print(a)\n",
    "for i in range(len(b)):\n",
    "    if 3<=b[i]<=7:\n",
    "        b[i]=b[i]\n",
    "    else:\n",
    "        b[i]=0\n",
    "print(b)\n",
    "\n",
    "task_9=np.concatenate((a,b),axis=0)\n",
    "print(task_9)\n",
    "\n",
    "sum=0\n",
    "for i in range(len(task_9)):\n",
    "    sum=sum+task_9[i]\n",
    "print(sum)\n",
    "\n",
    "sum_2=np.sum(task_9)\n",
    "print(sum_2)"
   ]
  },
  {
   "cell_type": "code",
   "execution_count": null,
   "metadata": {},
   "outputs": [],
   "source": []
  }
 ],
 "metadata": {
  "kernelspec": {
   "display_name": "Python 3",
   "language": "python",
   "name": "python3"
  },
  "language_info": {
   "codemirror_mode": {
    "name": "ipython",
    "version": 3
   },
   "file_extension": ".py",
   "mimetype": "text/x-python",
   "name": "python",
   "nbconvert_exporter": "python",
   "pygments_lexer": "ipython3",
   "version": "3.8.5"
  }
 },
 "nbformat": 4,
 "nbformat_minor": 4
}