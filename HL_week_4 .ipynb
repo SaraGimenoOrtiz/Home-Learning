{
 "cells": [
  {
   "cell_type": "code",
   "execution_count": 1,
   "metadata": {},
   "outputs": [],
   "source": [
    "import pandas as pd"
   ]
  },
  {
   "cell_type": "code",
   "execution_count": 2,
   "metadata": {},
   "outputs": [
    {
     "name": "stdout",
     "output_type": "stream",
     "text": [
      "   Destinations   Feedback   Average_hotel   All_include    Most_visit\n",
      "0         Spain          6               1            25      Tenerife\n",
      "1         Italy          0               3            28          Rome\n",
      "2        Greece          3               1            21     Santorine\n",
      "3        France          0               3            21         Paris\n",
      "4        Mexico          3               1             2  Riviera Maya\n",
      "5    New Zeland          5               1            30    Wellington\n",
      "6        Canada          9               5             1       Ontario\n",
      "7          Peru          3               3            24    Machupichu\n",
      "8     Australia          9               2            11        Sydney\n",
      "9         Egypt          1               2             6      El Cairo\n",
      "10          USA          4               1            20     Washinton\n",
      "11      Morocco          3               5             0         Rabat\n",
      "12           UK          7               5            20        London\n",
      "13    Argentina          9               2            26  Buenos Aires\n",
      "14       Russia          8               3            25  St.Petesburg\n"
     ]
    }
   ],
   "source": [
    "#Read the CSV file using pd.read_csv\n",
    "\n",
    "traveldata=pd.read_csv(\"prueba.csv\")\n",
    "print(traveldata)"
   ]
  },
  {
   "cell_type": "code",
   "execution_count": 3,
   "metadata": {},
   "outputs": [
    {
     "data": {
      "text/plain": [
       "(15, 5)"
      ]
     },
     "execution_count": 3,
     "metadata": {},
     "output_type": "execute_result"
    }
   ],
   "source": [
    "# Show the number of rows and columns\n",
    "traveldata.shape\n",
    "\n"
   ]
  },
  {
   "cell_type": "code",
   "execution_count": 4,
   "metadata": {},
   "outputs": [
    {
     "name": "stdout",
     "output_type": "stream",
     "text": [
      "  Destinations   Feedback   Average_hotel   All_include    Most_visit\n",
      "3       France          0               3            21         Paris\n",
      "4       Mexico          3               1             2  Riviera Maya\n",
      "5   New Zeland          5               1            30    Wellington\n",
      "6       Canada          9               5             1       Ontario\n",
      "7         Peru          3               3            24    Machupichu\n",
      "8    Australia          9               2            11        Sydney\n"
     ]
    }
   ],
   "source": [
    "print(traveldata.iloc[3:9])"
   ]
  },
  {
   "cell_type": "code",
   "execution_count": 5,
   "metadata": {},
   "outputs": [
    {
     "data": {
      "text/html": [
       "<div>\n",
       "<style scoped>\n",
       "    .dataframe tbody tr th:only-of-type {\n",
       "        vertical-align: middle;\n",
       "    }\n",
       "\n",
       "    .dataframe tbody tr th {\n",
       "        vertical-align: top;\n",
       "    }\n",
       "\n",
       "    .dataframe thead th {\n",
       "        text-align: right;\n",
       "    }\n",
       "</style>\n",
       "<table border=\"1\" class=\"dataframe\">\n",
       "  <thead>\n",
       "    <tr style=\"text-align: right;\">\n",
       "      <th></th>\n",
       "      <th>Destinations</th>\n",
       "      <th>Feedback</th>\n",
       "      <th>Average_hotel</th>\n",
       "      <th>All_include</th>\n",
       "      <th>Most_visit</th>\n",
       "    </tr>\n",
       "  </thead>\n",
       "  <tbody>\n",
       "    <tr>\n",
       "      <th>12</th>\n",
       "      <td>UK</td>\n",
       "      <td>7</td>\n",
       "      <td>5</td>\n",
       "      <td>20</td>\n",
       "      <td>London</td>\n",
       "    </tr>\n",
       "    <tr>\n",
       "      <th>13</th>\n",
       "      <td>Argentina</td>\n",
       "      <td>9</td>\n",
       "      <td>2</td>\n",
       "      <td>26</td>\n",
       "      <td>Buenos Aires</td>\n",
       "    </tr>\n",
       "    <tr>\n",
       "      <th>14</th>\n",
       "      <td>Russia</td>\n",
       "      <td>8</td>\n",
       "      <td>3</td>\n",
       "      <td>25</td>\n",
       "      <td>St.Petesburg</td>\n",
       "    </tr>\n",
       "  </tbody>\n",
       "</table>\n",
       "</div>"
      ],
      "text/plain": [
       "   Destinations   Feedback   Average_hotel   All_include    Most_visit\n",
       "12           UK          7               5            20        London\n",
       "13    Argentina          9               2            26  Buenos Aires\n",
       "14       Russia          8               3            25  St.Petesburg"
      ]
     },
     "execution_count": 5,
     "metadata": {},
     "output_type": "execute_result"
    }
   ],
   "source": [
    "traveldata.tail(3)"
   ]
  },
  {
   "cell_type": "code",
   "execution_count": 6,
   "metadata": {},
   "outputs": [
    {
     "data": {
      "text/html": [
       "<div>\n",
       "<style scoped>\n",
       "    .dataframe tbody tr th:only-of-type {\n",
       "        vertical-align: middle;\n",
       "    }\n",
       "\n",
       "    .dataframe tbody tr th {\n",
       "        vertical-align: top;\n",
       "    }\n",
       "\n",
       "    .dataframe thead th {\n",
       "        text-align: right;\n",
       "    }\n",
       "</style>\n",
       "<table border=\"1\" class=\"dataframe\">\n",
       "  <thead>\n",
       "    <tr style=\"text-align: right;\">\n",
       "      <th></th>\n",
       "      <th>Destinations</th>\n",
       "      <th>Feedback</th>\n",
       "      <th>Average_hotel</th>\n",
       "      <th>All_include</th>\n",
       "      <th>Most_visit</th>\n",
       "    </tr>\n",
       "  </thead>\n",
       "  <tbody>\n",
       "    <tr>\n",
       "      <th>0</th>\n",
       "      <td>Spain</td>\n",
       "      <td>6</td>\n",
       "      <td>1</td>\n",
       "      <td>25</td>\n",
       "      <td>Tenerife</td>\n",
       "    </tr>\n",
       "    <tr>\n",
       "      <th>1</th>\n",
       "      <td>Italy</td>\n",
       "      <td>0</td>\n",
       "      <td>3</td>\n",
       "      <td>28</td>\n",
       "      <td>Rome</td>\n",
       "    </tr>\n",
       "    <tr>\n",
       "      <th>2</th>\n",
       "      <td>Greece</td>\n",
       "      <td>3</td>\n",
       "      <td>1</td>\n",
       "      <td>21</td>\n",
       "      <td>Santorine</td>\n",
       "    </tr>\n",
       "  </tbody>\n",
       "</table>\n",
       "</div>"
      ],
      "text/plain": [
       "  Destinations   Feedback   Average_hotel   All_include  Most_visit\n",
       "0        Spain          6               1            25    Tenerife\n",
       "1        Italy          0               3            28        Rome\n",
       "2       Greece          3               1            21   Santorine"
      ]
     },
     "execution_count": 6,
     "metadata": {},
     "output_type": "execute_result"
    }
   ],
   "source": [
    "traveldata.head(3)"
   ]
  },
  {
   "cell_type": "code",
   "execution_count": 7,
   "metadata": {},
   "outputs": [
    {
     "data": {
      "text/plain": [
       "0     1\n",
       "1     3\n",
       "2     1\n",
       "3     3\n",
       "4     1\n",
       "5     1\n",
       "6     5\n",
       "7     3\n",
       "8     2\n",
       "9     2\n",
       "10    1\n",
       "11    5\n",
       "12    5\n",
       "13    2\n",
       "14    3\n",
       "Name:  Average_hotel, dtype: int64"
      ]
     },
     "execution_count": 7,
     "metadata": {},
     "output_type": "execute_result"
    }
   ],
   "source": [
    "traveldata[\" Average_hotel\"]"
   ]
  },
  {
   "cell_type": "code",
   "execution_count": 8,
   "metadata": {},
   "outputs": [
    {
     "name": "stdout",
     "output_type": "stream",
     "text": [
      "The mean number of all-inclusice hotels across all destinations is:  17.33\n"
     ]
    }
   ],
   "source": [
    "mean=round(traveldata[\" All_include\"].mean(),2)\n",
    "print(\"The mean number of all-inclusice hotels across all destinations is: \",mean)"
   ]
  },
  {
   "cell_type": "code",
   "execution_count": 29,
   "metadata": {},
   "outputs": [
    {
     "name": "stdout",
     "output_type": "stream",
     "text": [
      "   Destinations   Feedback   Average_hotel   All_include  Most_visit\n",
      "IT        Italy          0               3            28        Rome\n",
      "FR       France          0               3            21       Paris\n"
     ]
    }
   ],
   "source": [
    "myfilter=traveldata[\" Feedback\"]==traveldata[\" Feedback\"].min()\n",
    "myfilter\n",
    "\n",
    "low_score=traveldata[myfilter]\n",
    "print(low_score)"
   ]
  },
  {
   "cell_type": "code",
   "execution_count": 30,
   "metadata": {},
   "outputs": [
    {
     "name": "stdout",
     "output_type": "stream",
     "text": [
      "    Destinations   Feedback   Average_hotel   All_include    Most_visit\n",
      "CA        Canada          9               5             1       Ontario\n",
      "AU     Australia          9               2            11        Sydney\n",
      "ARG    Argentina          9               2            26  Buenos Aires\n"
     ]
    }
   ],
   "source": [
    "myfilter=traveldata[\" Feedback\"]==traveldata[\" Feedback\"].max()\n",
    "myfilter\n",
    "\n",
    "high_score=traveldata[myfilter]\n",
    "print(high_score)"
   ]
  },
  {
   "cell_type": "code",
   "execution_count": 26,
   "metadata": {},
   "outputs": [
    {
     "name": "stdout",
     "output_type": "stream",
     "text": [
      "    Destinations   Feedback   Average_hotel   All_include    Most_visit\n",
      "CA        Canada          9               5             1       Ontario\n",
      "AU     Australia          9               2            11        Sydney\n",
      "ARG    Argentina          9               2            26  Buenos Aires\n",
      "RU        Russia          8               3            25  St.Petesburg\n"
     ]
    }
   ],
   "source": [
    "myfilter=traveldata[\" Feedback\"]>=8\n",
    "myfilter\n",
    "\n",
    "highfeedback=traveldata[myfilter]\n",
    "print(highfeedback)"
   ]
  },
  {
   "cell_type": "code",
   "execution_count": 11,
   "metadata": {},
   "outputs": [
    {
     "name": "stdout",
     "output_type": "stream",
     "text": [
      "   Destinations   Feedback   Average_hotel   All_include    Most_visit\n",
      "0         Spain          6               1            25      Tenerife\n",
      "1         Italy          0               3            28          Rome\n",
      "2        Greece          3               1            21     Santorine\n",
      "3        France          0               3            21         Paris\n",
      "5    New Zeland          5               1            30    Wellington\n",
      "7          Peru          3               3            24    Machupichu\n",
      "8     Australia          9               2            11        Sydney\n",
      "10          USA          4               1            20     Washinton\n",
      "12           UK          7               5            20        London\n",
      "13    Argentina          9               2            26  Buenos Aires\n",
      "14       Russia          8               3            25  St.Petesburg\n"
     ]
    }
   ],
   "source": [
    "myfilter=traveldata[\" All_include\"]>9\n",
    "myfilter\n",
    "\n",
    "high_all=traveldata[myfilter]\n",
    "print(high_all)"
   ]
  },
  {
   "cell_type": "code",
   "execution_count": 12,
   "metadata": {},
   "outputs": [
    {
     "name": "stdout",
     "output_type": "stream",
     "text": [
      "  Destinations   Feedback   Average_hotel   All_include  Most_visit\n",
      "1        Italy          0               3            28        Rome\n",
      "3       France          0               3            21       Paris\n",
      "9        Egypt          1               2             6    El Cairo\n"
     ]
    }
   ],
   "source": [
    "myfilter=traveldata[\" Feedback\"]<2\n",
    "myfilter\n",
    "\n",
    "lowfeedback=traveldata[myfilter]\n",
    "print(lowfeedback)"
   ]
  },
  {
   "cell_type": "code",
   "execution_count": 13,
   "metadata": {},
   "outputs": [
    {
     "data": {
      "image/png": "[encoded data removed]",
      "text/plain": [
       "<Figure size 432x288 with 1 Axes>"
      ]
     },
     "metadata": {
      "needs_background": "light"
     },
     "output_type": "display_data"
    }
   ],
   "source": [
    "scatter=traveldata.plot.scatter(x=' All_include',\n",
    "                                y=' Feedback',\n",
    "                                c='DarkBlue')"
   ]
  },
  {
   "cell_type": "code",
   "execution_count": 14,
   "metadata": {},
   "outputs": [
    {
     "data": {
      "image/png": "[encoded data removed]",
      "text/plain": [
       "<Figure size 288x288 with 1 Axes>"
      ]
     },
     "metadata": {},
     "output_type": "display_data"
    }
   ],
   "source": [
    "traveldata.index=[\"SP\",\"IT\",\"GR\", \"FR\",\"MX\",\"NZ\",\n",
    "                  \"CA\",\"PE\",\"AU\",\"EG\",\"USA\",\"MO\",\"UK\",\"ARG\",\"RU\"]\n",
    "\n",
    "plot_pie=traveldata.plot.pie(y=' Feedback', figsize=(4,4))"
   ]
  },
  {
   "cell_type": "code",
   "execution_count": 15,
   "metadata": {},
   "outputs": [
    {
     "data": {
      "image/png": "[encoded data removed]",
      "text/plain": [
       "<Figure size 432x288 with 1 Axes>"
      ]
     },
     "metadata": {
      "needs_background": "light"
     },
     "output_type": "display_data"
    }
   ],
   "source": [
    "plot_bar=traveldata.plot.bar(y=' Feedback', rot=0)"
   ]
  },
  {
   "cell_type": "code",
   "execution_count": null,
   "metadata": {},
   "outputs": [],
   "source": []
  }
 ],
 "metadata": {
  "kernelspec": {
   "display_name": "Python 3",
   "language": "python",
   "name": "python3"
  },
  "language_info": {
   "codemirror_mode": {
    "name": "ipython",
    "version": 3
   },
   "file_extension": ".py",
   "mimetype": "text/x-python",
   "name": "python",
   "nbconvert_exporter": "python",
   "pygments_lexer": "ipython3",
   "version": "3.8.5"
  }
 },
 "nbformat": 4,
 "nbformat_minor": 4
}
